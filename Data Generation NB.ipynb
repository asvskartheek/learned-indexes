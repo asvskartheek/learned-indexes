{
 "cells": [
  {
   "cell_type": "code",
   "execution_count": 2,
   "metadata": {},
   "outputs": [],
   "source": [
    "import numpy as np\n",
    "import tensorflow as tf\n",
    "import random\n",
    "import pandas as pd\n",
    "import csv"
   ]
  },
  {
   "cell_type": "code",
   "execution_count": 12,
   "metadata": {},
   "outputs": [],
   "source": [
    "SIZE = 100000 # Size of dataset\n",
    "BLOCK_SIZE = 100\n",
    "learning_percent = 0.5"
   ]
  },
  {
   "cell_type": "code",
   "execution_count": 13,
   "metadata": {},
   "outputs": [],
   "source": [
    "file_path = 'data/binomial.csv'\n",
    "store_path = 'data/exponential_s.csv'\n",
    "to_store_path = 'data/exponential_t.csv'"
   ]
  },
  {
   "cell_type": "code",
   "execution_count": 18,
   "metadata": {},
   "outputs": [],
   "source": [
    "data = np.random.exponential(10, size=SIZE)\n",
    "data.sort()\n",
    "# with open('data.csv', 'w') as csvFile:\n",
    "#         csv_writer = csv.writer(csvFile)\n",
    "#         i = 0\n",
    "#         for d in data:\n",
    "#             csv_writer.writerow([int(d * 10000000), i / BLOCK_SIZE])\n",
    "#             i += 1\n",
    "\n",
    "store_bits = []\n",
    "if learning_percent == 0.8:\n",
    "    for i in range(SIZE):\n",
    "        store_bits.append(random.randint(0, 4))\n",
    "else:\n",
    "    for i in range(SIZE):\n",
    "        store_bits.append(random.randint(0, int(1.0 / learning_percent) - 1))\n",
    "\n",
    "i = 0\n",
    "insert_data = []\n",
    "with open(store_path, 'w') as csvFile:\n",
    "    csv_writer = csv.writer(csvFile)\n",
    "    #deal with sample training and storage optimization\n",
    "    if learning_percent == 0.8:\n",
    "        for ind in range(SIZE):\n",
    "            din = int(data[ind] * 10000000)\n",
    "            if store_bits[ind] != 0:                        \n",
    "                csv_writer.writerow([din, i / BLOCK_SIZE])\n",
    "                i += 1\n",
    "            else:\n",
    "                insert_data.append(din)\n",
    "    else:\n",
    "        for ind in range(SIZE):\n",
    "            din = int(data[ind] * 10000000)\n",
    "            if store_bits[ind] == 0:                        \n",
    "                csv_writer.writerow([din, i / BLOCK_SIZE])\n",
    "                i += 1\n",
    "            else:\n",
    "                insert_data.append(din)\n",
    "                \n",
    "random.shuffle(insert_data) \n",
    "with open(to_store_path, 'w') as csvFile:\n",
    "    csv_writer = csv.writer(csvFile)\n",
    "    for din in insert_data:\n",
    "        csv_writer.writerow([din])"
   ]
  }
 ],
 "metadata": {
  "kernelspec": {
   "display_name": "Python 3",
   "language": "python",
   "name": "python3"
  },
  "language_info": {
   "codemirror_mode": {
    "name": "ipython",
    "version": 3
   },
   "file_extension": ".py",
   "mimetype": "text/x-python",
   "name": "python",
   "nbconvert_exporter": "python",
   "pygments_lexer": "ipython3",
   "version": "3.7.4"
  }
 },
 "nbformat": 4,
 "nbformat_minor": 2
}
