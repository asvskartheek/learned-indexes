{
 "cells": [
  {
   "cell_type": "code",
   "execution_count": 37,
   "metadata": {},
   "outputs": [],
   "source": [
    "import pandas as pd\n",
    "import numpy as np\n",
    "from keras.models import Sequential\n",
    "from keras.layers import Dense\n",
    "from sklearn.model_selection import train_test_split"
   ]
  },
  {
   "cell_type": "code",
   "execution_count": 38,
   "metadata": {},
   "outputs": [
    {
     "data": {
      "text/html": [
       "<div>\n",
       "<style scoped>\n",
       "    .dataframe tbody tr th:only-of-type {\n",
       "        vertical-align: middle;\n",
       "    }\n",
       "\n",
       "    .dataframe tbody tr th {\n",
       "        vertical-align: top;\n",
       "    }\n",
       "\n",
       "    .dataframe thead th {\n",
       "        text-align: right;\n",
       "    }\n",
       "</style>\n",
       "<table border=\"1\" class=\"dataframe\">\n",
       "  <thead>\n",
       "    <tr style=\"text-align: right;\">\n",
       "      <th></th>\n",
       "      <th>key</th>\n",
       "      <th>value</th>\n",
       "    </tr>\n",
       "  </thead>\n",
       "  <tbody>\n",
       "    <tr>\n",
       "      <th>0</th>\n",
       "      <td>55</td>\n",
       "      <td>0</td>\n",
       "    </tr>\n",
       "    <tr>\n",
       "      <th>1</th>\n",
       "      <td>206</td>\n",
       "      <td>0</td>\n",
       "    </tr>\n",
       "    <tr>\n",
       "      <th>2</th>\n",
       "      <td>1542</td>\n",
       "      <td>0</td>\n",
       "    </tr>\n",
       "    <tr>\n",
       "      <th>3</th>\n",
       "      <td>1780</td>\n",
       "      <td>0</td>\n",
       "    </tr>\n",
       "    <tr>\n",
       "      <th>4</th>\n",
       "      <td>1809</td>\n",
       "      <td>0</td>\n",
       "    </tr>\n",
       "  </tbody>\n",
       "</table>\n",
       "</div>"
      ],
      "text/plain": [
       "    key  value\n",
       "0    55      0\n",
       "1   206      0\n",
       "2  1542      0\n",
       "3  1780      0\n",
       "4  1809      0"
      ]
     },
     "execution_count": 38,
     "metadata": {},
     "output_type": "execute_result"
    }
   ],
   "source": [
    "df = pd.read_csv('exponential.csv')\n",
    "df.head()"
   ]
  },
  {
   "cell_type": "code",
   "execution_count": 52,
   "metadata": {},
   "outputs": [],
   "source": [
    "X = df['key'].values.reshape(-1,1)\n",
    "y = df['value'].values.reshape(-1,1)\n",
    "X_train, X_test, y_train, y_test = train_test_split(X,y,test_size=0.1,random_state=42)"
   ]
  },
  {
   "cell_type": "code",
   "execution_count": 58,
   "metadata": {},
   "outputs": [],
   "source": [
    "model = Sequential()\n",
    "model.add(Dense(32, activation='relu',input_shape=(1,)))\n",
    "model.add(Dense(32, activation='sigmoid'))\n",
    "model.add(Dense(1))\n",
    "model.compile(optimizer='adam', loss='mean_absolute_error')"
   ]
  },
  {
   "cell_type": "code",
   "execution_count": 59,
   "metadata": {},
   "outputs": [
    {
     "name": "stdout",
     "output_type": "stream",
     "text": [
      "Train on 81000 samples, validate on 9000 samples\n",
      "Epoch 1/16\n",
      "81000/81000 [==============================] - 0s 6us/step - loss: 499.3530 - val_loss: 493.0039\n",
      "Epoch 2/16\n",
      "81000/81000 [==============================] - 0s 4us/step - loss: 496.9610 - val_loss: 491.8344\n",
      "Epoch 3/16\n",
      "81000/81000 [==============================] - 0s 4us/step - loss: 495.9279 - val_loss: 489.8432\n",
      "Epoch 4/16\n",
      "81000/81000 [==============================] - 0s 4us/step - loss: 494.1277 - val_loss: 488.6016\n",
      "Epoch 5/16\n",
      "81000/81000 [==============================] - 0s 4us/step - loss: 495.2877 - val_loss: 490.2018\n",
      "Epoch 6/16\n",
      "81000/81000 [==============================] - 0s 4us/step - loss: 494.5745 - val_loss: 489.3624\n",
      "Epoch 7/16\n",
      "81000/81000 [==============================] - 0s 4us/step - loss: 494.0892 - val_loss: 489.5196\n",
      "Epoch 8/16\n",
      "81000/81000 [==============================] - 0s 4us/step - loss: 493.8119 - val_loss: 488.3093\n",
      "Epoch 9/16\n",
      "81000/81000 [==============================] - 0s 4us/step - loss: 492.6240 - val_loss: 487.1421\n",
      "Epoch 10/16\n",
      "81000/81000 [==============================] - 0s 4us/step - loss: 491.5682 - val_loss: 486.9791\n",
      "Epoch 11/16\n",
      "81000/81000 [==============================] - 0s 4us/step - loss: 492.6922 - val_loss: 489.3460\n",
      "Epoch 12/16\n",
      "81000/81000 [==============================] - 0s 4us/step - loss: 493.9283 - val_loss: 488.7119\n",
      "Epoch 13/16\n",
      "81000/81000 [==============================] - 0s 4us/step - loss: 493.2955 - val_loss: 488.0815\n",
      "Epoch 14/16\n",
      "81000/81000 [==============================] - 0s 4us/step - loss: 492.6655 - val_loss: 487.4534\n",
      "Epoch 15/16\n",
      "81000/81000 [==============================] - 0s 4us/step - loss: 492.0376 - val_loss: 486.8278\n",
      "Epoch 16/16\n",
      "81000/81000 [==============================] - 0s 4us/step - loss: 491.9734 - val_loss: 488.6090\n"
     ]
    },
    {
     "data": {
      "text/plain": [
       "<keras.callbacks.callbacks.History at 0x13f7fbfd0>"
      ]
     },
     "execution_count": 59,
     "metadata": {},
     "output_type": "execute_result"
    }
   ],
   "source": [
    "model.fit(X_train,y_train,epochs=16,validation_split=0.1,batch_size=512)"
   ]
  },
  {
   "cell_type": "code",
   "execution_count": 60,
   "metadata": {},
   "outputs": [
    {
     "name": "stdout",
     "output_type": "stream",
     "text": [
      "138 ms ± 4.21 ms per loop (mean ± std. dev. of 7 runs, 10 loops each)\n"
     ]
    }
   ],
   "source": [
    "%%timeit\n",
    "preds = model.predict(X_test)"
   ]
  },
  {
   "cell_type": "code",
   "execution_count": 67,
   "metadata": {},
   "outputs": [
    {
     "name": "stdout",
     "output_type": "stream",
     "text": [
      "[[6.9225965]]\n"
     ]
    }
   ],
   "source": [
    "print(model.predict(X_test[9999]))"
   ]
  },
  {
   "cell_type": "code",
   "execution_count": 61,
   "metadata": {},
   "outputs": [
    {
     "data": {
      "text/plain": [
       "(1000, 1)"
      ]
     },
     "execution_count": 61,
     "metadata": {},
     "output_type": "execute_result"
    }
   ],
   "source": [
    "preds.shape"
   ]
  },
  {
   "cell_type": "code",
   "execution_count": 57,
   "metadata": {},
   "outputs": [
    {
     "ename": "ValueError",
     "evalue": "operands could not be broadcast together with shapes (1000,1) (10000,1) ",
     "output_type": "error",
     "traceback": [
      "\u001b[0;31m---------------------------------------------------------------------------\u001b[0m",
      "\u001b[0;31mValueError\u001b[0m                                Traceback (most recent call last)",
      "\u001b[0;32m<ipython-input-57-6546cc449f7f>\u001b[0m in \u001b[0;36m<module>\u001b[0;34m\u001b[0m\n\u001b[0;32m----> 1\u001b[0;31m \u001b[0merrs\u001b[0m \u001b[0;34m=\u001b[0m \u001b[0mpreds\u001b[0m \u001b[0;34m-\u001b[0m \u001b[0my_test\u001b[0m\u001b[0;34m\u001b[0m\u001b[0;34m\u001b[0m\u001b[0m\n\u001b[0m\u001b[1;32m      2\u001b[0m \u001b[0mmax_err\u001b[0m \u001b[0;34m=\u001b[0m \u001b[0;36m0\u001b[0m\u001b[0;34m\u001b[0m\u001b[0;34m\u001b[0m\u001b[0m\n\u001b[1;32m      3\u001b[0m \u001b[0;32mfor\u001b[0m \u001b[0mi\u001b[0m \u001b[0;32min\u001b[0m \u001b[0merrs\u001b[0m\u001b[0;34m:\u001b[0m\u001b[0;34m\u001b[0m\u001b[0;34m\u001b[0m\u001b[0m\n\u001b[1;32m      4\u001b[0m     \u001b[0;32mif\u001b[0m \u001b[0mi\u001b[0m\u001b[0;34m>\u001b[0m\u001b[0mmax_err\u001b[0m \u001b[0;32mor\u001b[0m \u001b[0mi\u001b[0m\u001b[0;34m>\u001b[0m\u001b[0;34m(\u001b[0m\u001b[0;34m-\u001b[0m\u001b[0mmax_err\u001b[0m\u001b[0;34m)\u001b[0m\u001b[0;34m:\u001b[0m\u001b[0;34m\u001b[0m\u001b[0;34m\u001b[0m\u001b[0m\n\u001b[1;32m      5\u001b[0m         \u001b[0mmax_err\u001b[0m \u001b[0;34m=\u001b[0m \u001b[0mi\u001b[0m\u001b[0;34m\u001b[0m\u001b[0;34m\u001b[0m\u001b[0m\n",
      "\u001b[0;31mValueError\u001b[0m: operands could not be broadcast together with shapes (1000,1) (10000,1) "
     ]
    }
   ],
   "source": [
    "errs = preds - y_test\n",
    "max_err = 0\n",
    "for i in errs:\n",
    "    if i>max_err or i>(-max_err):\n",
    "        max_err = i\n",
    "print(max_err)"
   ]
  },
  {
   "cell_type": "code",
   "execution_count": 35,
   "metadata": {},
   "outputs": [],
   "source": [
    "class Item():\n",
    "  def __init__(self, key, value):\n",
    "    self.k = key\n",
    "    self.v = value\n",
    "\n",
    "  def __str__(self):\n",
    "    return \"Key: \" + str(self.k) + \" Value: \" + str(self.v)\n",
    "\n",
    "  def __eq__(self, other):\n",
    "    return self.k == other.k\n",
    "\n",
    "  def __gt__(self, other):\n",
    "    return self.k > other.k\n",
    "\n",
    "  def __ge__(self, other):\n",
    "    return self.k >= other.k\n",
    "\n",
    "  def __lt__(self, other):\n",
    "    return self.k < other.k\n",
    "\n",
    "  def __le__(self, other):\n",
    "    return self.k <= other.k\n",
    "\n",
    "# Every node in the B-Tree is implemented as a BTreeNode\n",
    "\n",
    "class BTreeNode:\n",
    "\n",
    "  \"\"\"\n",
    "  numberOfKeys - number of non-null keys in the node\n",
    "  items - keys in a node\n",
    "  children - indexes of nodes that are the children of the current node\n",
    "  index - position of the node in sorted order\n",
    "  \"\"\"\n",
    "\n",
    "  def __init__(self, keys_per_node = 0):\n",
    "    self.items = [None] * keys_per_node\n",
    "    self.children = [None] * (keys_per_node + 1)\n",
    "    self.isLeaf = True\n",
    "    self.numberOfKeys = 0\n",
    "    self.index = None\n",
    "\n",
    "  def set_index(self, index):\n",
    "    self.index = index\n",
    "\n",
    "  def search(self, b_tree, an_item):\n",
    "    i = 0\n",
    "    while i < self.numberOfKeys and an_item > self.items[i]:\n",
    "      i += 1\n",
    "    if i < self.numberOfKeys and an_item == self.items[i]:\n",
    "      return {'found': True, 'fileIndex': self.index, 'nodeIndex': i}\n",
    "    if self.isLeaf:\n",
    "      return {'found': False, 'fileIndex': self.index, 'nodeIndex': i - 1}\n",
    "    else:\n",
    "      return b_tree.get_node(self.children[i]).search(b_tree, an_item)\n",
    "\n",
    "\n",
    "# B-Tree stores the properties of the required B-Tree\n",
    "\n",
    "class BTree:\n",
    "\n",
    "  \"\"\"\n",
    "  keys_per_node - page_size (number of keys in each node)\n",
    "  degree - Number of keys to half-fill the node\n",
    "  rootNode - root node in the B-Tree\n",
    "  nodes - map of all nodes in the B-Tree (index to node mapping)\n",
    "  rootIndex - index of the rootNode in the nodes map\n",
    "  freeIndex - An incremental counter always pointing to next position to be filled\n",
    "  \"\"\"\n",
    "\n",
    "  def __init__(self, keys_per_node = 0):\n",
    "    self.keys_per_node = keys_per_node\n",
    "    self.degree = (self.keys_per_node + 1) // 2 #Should be int\n",
    "    self.rootIndex = 1\n",
    "    self.freeIndex = self.rootIndex + 1\n",
    "    self.rootNode = BTreeNode(self.keys_per_node)\n",
    "    self.rootNode.set_index(self.rootIndex)\n",
    "    self.nodes = {}\n",
    "    self.write_at(self.rootIndex, self.rootNode)\n",
    "    \n",
    "\n",
    "  def build(self, keys, values):\n",
    "    if len(keys) != len(values):\n",
    "      return\n",
    "    for ind in range(len(keys)):\n",
    "      self.insert(Item(keys[ind], values[ind]))\n",
    "\n",
    "  def write_at(self, index, a_node):\n",
    "    self.nodes[index] = a_node\n",
    "\n",
    "  def representation(self):\n",
    "    return \"BTree(\"+str(self.degree)+\",\\n function\" + str(self.function()) + \",\"+ str(self.rootIndex)+\",\"+str(self.freeIndex)\n",
    "  \n",
    "  def get_free_index(self):\n",
    "    self.freeIndex += 1\n",
    "    return self.freeIndex - 1\n",
    "\n",
    "  def set_root_node(self, r):\n",
    "    self.rootNode = r\n",
    "    self.rootIndex = self.rootNode.index\n",
    "\n",
    "  def get_free_node(self):\n",
    "    new_node = BTreeNode(self.keys_per_node)\n",
    "    index = self.get_free_index()\n",
    "    new_node.set_index(index)\n",
    "    self.write_at(index, new_node)\n",
    "    return new_node\n",
    "\n",
    "  def print_nodes(self):\n",
    "    s = ''\n",
    "    for x in self.nodes:\n",
    "      s = s + str(x) + ' '\n",
    "    return s\n",
    "    \n",
    "  def function(self):\n",
    "    return 'BTree Degree:' + str(self.degree) + ' RootIndex:' + str(self.rootIndex)+ ' FreeIndex:' +str(self.freeIndex) + '\\nNodes:' + str(self.print_nodes()) \n",
    "\n",
    "  def predict(self, key):\n",
    "    search_result = self.search(Item(key, 0))\n",
    "    if not search_result['found']:\n",
    "      return -1\n",
    "    node = search_result['fileIndex']\n",
    "    item = search_result['nodeIndex']\n",
    "    return self.nodes[node].items[item].v\n",
    "\n",
    "  def get_node(self, index):\n",
    "    return self.nodes[index]\n",
    "\n",
    "  def split_child(self, p_node, i, c_node):\n",
    "    new_node = self.get_free_node()\n",
    "    new_node.isLeaf = c_node.isLeaf\n",
    "    new_node.numberOfKeys = self.degree - 1\n",
    "    for j in range(0, self.degree - 1):\n",
    "      new_node.items[j] = c_node.items[j + self.degree]\n",
    "    if not c_node.isLeaf:\n",
    "      for j in range(0, self.degree):\n",
    "        new_node.children[j] = c_node.children[j + self.degree]\n",
    "    c_node.numberOfKeys = self.degree - 1\n",
    "    j = p_node.numberOfKeys + 1\n",
    "    while j > i + 1:\n",
    "      p_node.children[j + 1] = p_node.children[j]\n",
    "      j -= 1\n",
    "    p_node.children[j] = new_node.index\n",
    "    j = p_node.numberOfKeys\n",
    "    while j > i:\n",
    "      p_node.items[j + 1] = p_node.items[j]\n",
    "      j -= 1\n",
    "    p_node.items[i] = c_node.items[self.degree - 1]\n",
    "    p_node.numberOfKeys += 1\n",
    "\n",
    "  def search(self, an_item):\n",
    "     return self.rootNode.search(self, an_item)\n",
    "\n",
    "  def insert(self, an_item):\n",
    "    search_result = self.search(an_item)\n",
    "    if search_result['found']:\n",
    "      return None\n",
    "    r = self.rootNode\n",
    "    if r.numberOfKeys == 2 * self.degree - 1:\n",
    "      s = self.get_free_node()\n",
    "      self.set_root_node(s)\n",
    "      s.isLeaf = False\n",
    "      s.numberOfKeys = 0\n",
    "      s.children[0] = r.index\n",
    "      self.split_child(s, 0, r)\n",
    "      self.insert_not_full(s, an_item)\n",
    "    else:\n",
    "      self.insert_not_full(r, an_item)\n",
    "\n",
    "  def insert_not_full(self, inNode, anItem):\n",
    "    i = inNode.numberOfKeys - 1\n",
    "    if inNode.isLeaf:\n",
    "      while i >= 0 and anItem < inNode.items[i]:\n",
    "        inNode.items[i + 1] = inNode.items[i]\n",
    "        i -= 1\n",
    "      inNode.items[i + 1] = anItem\n",
    "      inNode.numberOfKeys += 1\n",
    "    else:\n",
    "      while i >= 0 and anItem < inNode.items[i]:\n",
    "        i -= 1\n",
    "      i += 1\n",
    "      if self.get_node(inNode.children[i]).numberOfKeys == 2 * self.degree - 1:\n",
    "        self.split_child(inNode, i, self.get_node(inNode.children[i]))\n",
    "        if anItem > inNode.items[i]:\n",
    "          i += 1\n",
    "      self.insert_not_full(self.get_node(inNode.children[i]), anItem)"
   ]
  },
  {
   "cell_type": "code",
   "execution_count": 36,
   "metadata": {},
   "outputs": [
    {
     "ename": "AttributeError",
     "evalue": "'BTreeNode' object has no attribute 'set_index'",
     "output_type": "error",
     "traceback": [
      "\u001b[0;31m---------------------------------------------------------------------------\u001b[0m",
      "\u001b[0;31mAttributeError\u001b[0m                            Traceback (most recent call last)",
      "\u001b[0;32m<ipython-input-36-8c7db76ad8a5>\u001b[0m in \u001b[0;36m<module>\u001b[0;34m\u001b[0m\n\u001b[1;32m      1\u001b[0m \u001b[0mpage_size\u001b[0m\u001b[0;34m=\u001b[0m\u001b[0;36m64\u001b[0m\u001b[0;34m\u001b[0m\u001b[0;34m\u001b[0m\u001b[0m\n\u001b[0;32m----> 2\u001b[0;31m \u001b[0mbtree\u001b[0m \u001b[0;34m=\u001b[0m \u001b[0mBTree\u001b[0m\u001b[0;34m(\u001b[0m\u001b[0mpage_size\u001b[0m\u001b[0;34m)\u001b[0m\u001b[0;34m\u001b[0m\u001b[0;34m\u001b[0m\u001b[0m\n\u001b[0m",
      "\u001b[0;32m<ipython-input-35-e67a9c801b8c>\u001b[0m in \u001b[0;36m__init__\u001b[0;34m(self, keys_per_node)\u001b[0m\n\u001b[1;32m     74\u001b[0m     \u001b[0mself\u001b[0m\u001b[0;34m.\u001b[0m\u001b[0mfreeIndex\u001b[0m \u001b[0;34m=\u001b[0m \u001b[0mself\u001b[0m\u001b[0;34m.\u001b[0m\u001b[0mrootIndex\u001b[0m \u001b[0;34m+\u001b[0m \u001b[0;36m1\u001b[0m\u001b[0;34m\u001b[0m\u001b[0;34m\u001b[0m\u001b[0m\n\u001b[1;32m     75\u001b[0m     \u001b[0mself\u001b[0m\u001b[0;34m.\u001b[0m\u001b[0mrootNode\u001b[0m \u001b[0;34m=\u001b[0m \u001b[0mBTreeNode\u001b[0m\u001b[0;34m(\u001b[0m\u001b[0mself\u001b[0m\u001b[0;34m.\u001b[0m\u001b[0mkeys_per_node\u001b[0m\u001b[0;34m)\u001b[0m\u001b[0;34m\u001b[0m\u001b[0;34m\u001b[0m\u001b[0m\n\u001b[0;32m---> 76\u001b[0;31m     \u001b[0mself\u001b[0m\u001b[0;34m.\u001b[0m\u001b[0mrootNode\u001b[0m\u001b[0;34m.\u001b[0m\u001b[0mset_index\u001b[0m\u001b[0;34m(\u001b[0m\u001b[0mself\u001b[0m\u001b[0;34m.\u001b[0m\u001b[0mrootIndex\u001b[0m\u001b[0;34m)\u001b[0m\u001b[0;34m\u001b[0m\u001b[0;34m\u001b[0m\u001b[0m\n\u001b[0m\u001b[1;32m     77\u001b[0m     \u001b[0mself\u001b[0m\u001b[0;34m.\u001b[0m\u001b[0mnodes\u001b[0m \u001b[0;34m=\u001b[0m \u001b[0;34m{\u001b[0m\u001b[0;34m}\u001b[0m\u001b[0;34m\u001b[0m\u001b[0;34m\u001b[0m\u001b[0m\n\u001b[1;32m     78\u001b[0m     \u001b[0mself\u001b[0m\u001b[0;34m.\u001b[0m\u001b[0mwrite_at\u001b[0m\u001b[0;34m(\u001b[0m\u001b[0mself\u001b[0m\u001b[0;34m.\u001b[0m\u001b[0mrootIndex\u001b[0m\u001b[0;34m,\u001b[0m \u001b[0mself\u001b[0m\u001b[0;34m.\u001b[0m\u001b[0mrootNode\u001b[0m\u001b[0;34m)\u001b[0m\u001b[0;34m\u001b[0m\u001b[0;34m\u001b[0m\u001b[0m\n",
      "\u001b[0;31mAttributeError\u001b[0m: 'BTreeNode' object has no attribute 'set_index'"
     ]
    }
   ],
   "source": [
    "page_size=64\n",
    "btree = BTree(page_size)"
   ]
  },
  {
   "cell_type": "code",
   "execution_count": null,
   "metadata": {},
   "outputs": [],
   "source": []
  }
 ],
 "metadata": {
  "kernelspec": {
   "display_name": "Python 3",
   "language": "python",
   "name": "python3"
  },
  "language_info": {
   "codemirror_mode": {
    "name": "ipython",
    "version": 3
   },
   "file_extension": ".py",
   "mimetype": "text/x-python",
   "name": "python",
   "nbconvert_exporter": "python",
   "pygments_lexer": "ipython3",
   "version": "3.7.4"
  }
 },
 "nbformat": 4,
 "nbformat_minor": 2
}
